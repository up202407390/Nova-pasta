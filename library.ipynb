{
  "metadata": {
    "kernelspec": {
      "name": "python",
      "display_name": "Python (Pyodide)",
      "language": "python"
    },
    "language_info": {
      "codemirror_mode": {
        "name": "python",
        "version": 3
      },
      "file_extension": ".py",
      "mimetype": "text/x-python",
      "name": "python",
      "nbconvert_exporter": "python",
      "pygments_lexer": "ipython3",
      "version": "3.8"
    }
  },
  "nbformat_minor": 5,
  "nbformat": 4,
  "cells": [
    {
      "id": "f7fb0092-7c54-4fa7-931b-296ccf582c9a",
      "cell_type": "code",
      "source": "print(3)",
      "metadata": {
        "trusted": true
      },
      "outputs": [],
      "execution_count": null
    },
    {
      "id": "26e1e118-dc68-451b-9852-43823b27deb1",
      "cell_type": "code",
      "source": "import pandas as pd\nprint(3)",
      "metadata": {
        "trusted": true
      },
      "outputs": [],
      "execution_count": null
    },
    {
      "id": "eb9628af-35b1-4a08-83d9-f8f3ec064418",
      "cell_type": "code",
      "source": "print(4)",
      "metadata": {
        "trusted": true
      },
      "outputs": [],
      "execution_count": null
    },
    {
      "id": "e7de32ff-fbcb-493d-b4a1-63f7def18a05",
      "cell_type": "code",
      "source": "df = pd.read_csv(\"G07_Library.csv\", sep = ';')\ndf.head(3)",
      "metadata": {
        "trusted": true,
        "scrolled": true
      },
      "outputs": [],
      "execution_count": null
    },
    {
      "id": "58f8b8ae-071b-47d0-922d-83c557fca554",
      "cell_type": "code",
      "source": "data=df.loc[:,['Book','Member','Publisher','Requisition']]",
      "metadata": {
        "trusted": true
      },
      "outputs": [],
      "execution_count": null
    },
    {
      "id": "7295d694-2350-47b9-95d7-1d926ae81e13",
      "cell_type": "code",
      "source": "data.head(10)",
      "metadata": {
        "trusted": true
      },
      "outputs": [],
      "execution_count": null
    },
    {
      "id": "886e86bf-d977-4478-8745-be64505a2d81",
      "cell_type": "code",
      "source": "data=data.sort_values(by='book_id')",
      "metadata": {
        "trusted": true
      },
      "outputs": [],
      "execution_count": null
    },
    {
      "id": "fceb42e1-0c57-4e3f-acf0-d1ad616eb387",
      "cell_type": "code",
      "source": "data.head(10)",
      "metadata": {
        "trusted": true
      },
      "outputs": [],
      "execution_count": null
    },
    {
      "id": "c1844379-8988-4691-92ba-4efab882fd16",
      "cell_type": "code",
      "source": "Book.drop_duplicates(inplace=True)",
      "metadata": {
        "trusted": true
      },
      "outputs": [],
      "execution_count": null
    },
    {
      "id": "d848a608-3cba-480f-972a-6023f23f0333",
      "cell_type": "code",
      "source": "Book.head(10)",
      "metadata": {
        "scrolled": true,
        "trusted": true
      },
      "outputs": [],
      "execution_count": null
    },
    {
      "id": "33e6912f-4bdd-4721-81b2-151c520d9e3e",
      "cell_type": "code",
      "source": "import sqlite3\nconexao = sqlite3.connect('library.db')\nBook.to_sql('Book', conexao, if_exists='replace', index=False)\nconexao.close()",
      "metadata": {
        "trusted": true
      },
      "outputs": [],
      "execution_count": null
    },
    {
      "id": "7b07db4c-3872-43fc-aeec-25fd24891ba9",
      "cell_type": "code",
      "source": "",
      "metadata": {
        "trusted": true
      },
      "outputs": [],
      "execution_count": null
    },
    {
      "id": "164510bc-3e4e-441d-9e2f-6157dbd9e5a9",
      "cell_type": "code",
      "source": "",
      "metadata": {
        "trusted": true
      },
      "outputs": [],
      "execution_count": null
    },
    {
      "id": "01158f4e-d0e1-4ab6-9e21-e7f15f2cc54f",
      "cell_type": "code",
      "source": "",
      "metadata": {
        "trusted": true
      },
      "outputs": [],
      "execution_count": null
    },
    {
      "id": "3df45d84-0291-427d-80aa-6f70c97a34c9",
      "cell_type": "code",
      "source": "",
      "metadata": {
        "trusted": true
      },
      "outputs": [],
      "execution_count": null
    },
    {
      "id": "e7556c89-7b91-475e-b146-a89665f08923",
      "cell_type": "code",
      "source": "",
      "metadata": {
        "trusted": true
      },
      "outputs": [],
      "execution_count": null
    },
    {
      "id": "eb98adfe-9014-4dca-814d-8fba40a06ad7",
      "cell_type": "code",
      "source": "",
      "metadata": {
        "trusted": true
      },
      "outputs": [],
      "execution_count": null
    }
  ]
}